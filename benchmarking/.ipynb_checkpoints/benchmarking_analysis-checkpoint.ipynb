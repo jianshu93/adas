{
 "cells": [
  {
   "cell_type": "code",
   "execution_count": 93,
   "id": "b47566e3-b204-4ce2-abcd-62a1ce20d8d0",
   "metadata": {},
   "outputs": [],
   "source": [
    "import os\n",
    "import re\n",
    "import numpy as np\n",
    "import pandas as pd\n",
    "import seaborn as sns\n",
    "import matplotlib.pyplot as plt\n",
    "\n",
    "pd.set_option('display.max_columns', None)"
   ]
  },
  {
   "cell_type": "code",
   "execution_count": null,
   "id": "67da9cbd-e513-4982-b10d-c3f5eb8e50ac",
   "metadata": {},
   "outputs": [],
   "source": [
    "# Read the file\n",
    "with open(os.path.join(adas_dir, \"adas.chain.results.txt\"), \"r\") as file:\n",
    "    input_text = file.read()\n",
    "\n",
    "# Regex pattern to extract key-value pairs\n",
    "pattern = r\"query_name: Some\\(\\\"(\\d+)\\\"\\), query_len: Some\\((\\d+)\\), query_start: (\\d+), query_end: (\\d+), strand: (\\w+), target_name: Some\\(\\\"(\\d+)\\\"\\), target_len: (\\d+), target_start: (\\d+), target_end: (\\d+), match_len: (\\d+), block_len: (\\d+), mapq: (\\d+), is_primary: (\\w+), is_supplementary: (\\w+)\"\n",
    "\n",
    "# Extract data usingsd regex\n",
    "matches = re.findall(pattern, input_text)\n",
    "\n",
    "# Convert to a DataFrame\n",
    "df_adas = pd.DataFrame(matches, columns=[\n",
    "    \"query_name\", \"query_len\", \"query_start\", \"query_end\", \"strand\",\n",
    "    \"target_name\", \"target_len\", \"target_start\", \"target_end\",\n",
    "    \"match_len\", \"block_len\", \"mapq\", \"is_primary\", \"is_supplementary\"\n",
    "])\n",
    "\n",
    "# Convert numeric fields to appropriate types\n",
    "numeric_cols = [\"query_len\", \"query_start\", \"query_end\", \"target_len\", \"target_start\", \"target_end\", \"match_len\", \"block_len\", \"mapq\"]\n",
    "df_adas[numeric_cols] = df_adas[numeric_cols].astype(int)"
   ]
  },
  {
   "cell_type": "code",
   "execution_count": null,
   "id": "c31426f1-de99-43a1-bd13-b2ee48434f08",
   "metadata": {},
   "outputs": [],
   "source": [
    "df_adas['identity'] = df_adas['match_len']/df_adas['block_len']"
   ]
  },
  {
   "cell_type": "code",
   "execution_count": 26,
   "id": "c311a2e2-a89f-468b-9b92-11a8ca9a420e",
   "metadata": {},
   "outputs": [],
   "source": [
    "df_adas = df_adas.sort_values(by='identity', ascending=False)"
   ]
  },
  {
   "cell_type": "code",
   "execution_count": 27,
   "id": "f44d199c-e218-442a-b671-3b2eb64935de",
   "metadata": {},
   "outputs": [
    {
     "data": {
      "text/html": [
       "<div>\n",
       "<style scoped>\n",
       "    .dataframe tbody tr th:only-of-type {\n",
       "        vertical-align: middle;\n",
       "    }\n",
       "\n",
       "    .dataframe tbody tr th {\n",
       "        vertical-align: top;\n",
       "    }\n",
       "\n",
       "    .dataframe thead th {\n",
       "        text-align: right;\n",
       "    }\n",
       "</style>\n",
       "<table border=\"1\" class=\"dataframe\">\n",
       "  <thead>\n",
       "    <tr style=\"text-align: right;\">\n",
       "      <th></th>\n",
       "      <th>query_name</th>\n",
       "      <th>query_len</th>\n",
       "      <th>query_start</th>\n",
       "      <th>query_end</th>\n",
       "      <th>strand</th>\n",
       "      <th>target_name</th>\n",
       "      <th>target_len</th>\n",
       "      <th>target_start</th>\n",
       "      <th>target_end</th>\n",
       "      <th>match_len</th>\n",
       "      <th>block_len</th>\n",
       "      <th>mapq</th>\n",
       "      <th>is_primary</th>\n",
       "      <th>is_supplementary</th>\n",
       "      <th>identity</th>\n",
       "    </tr>\n",
       "  </thead>\n",
       "  <tbody>\n",
       "  </tbody>\n",
       "</table>\n",
       "</div>"
      ],
      "text/plain": [
       "Empty DataFrame\n",
       "Columns: [query_name, query_len, query_start, query_end, strand, target_name, target_len, target_start, target_end, match_len, block_len, mapq, is_primary, is_supplementary, identity]\n",
       "Index: []"
      ]
     },
     "execution_count": 27,
     "metadata": {},
     "output_type": "execute_result"
    }
   ],
   "source": [
    "df_adas"
   ]
  },
  {
   "cell_type": "code",
   "execution_count": null,
   "id": "d3f1a3cb-5921-47b4-93ed-64bd02faee24",
   "metadata": {},
   "outputs": [],
   "source": [
    "df_usearch = pd.read_csv(os.path.join(usearch_dir, \"hits.b6\"),sep='\\t',low_memory=False, names= [\n",
    "    \"query_id\",\n",
    "    \"subject_id\",\n",
    "    \"percent_identity\", \n",
    "    \"alignment_length\",\n",
    "    \"mismatches\",\n",
    "    \"gap_opens\",\n",
    "    \"q_start\",\n",
    "    \"q_end\",\n",
    "    \"s_start\",\n",
    "    \"s_end\",\n",
    "    \"evalue\",\n",
    "    \"bit_score\"],dtype={\"query_id\": str, \"subject_id\": str}).sort_values(by=\"percent_identity\", ascending=False)"
   ]
  },
  {
   "cell_type": "markdown",
   "id": "91015bf6-9c7c-46df-b155-05a112f92663",
   "metadata": {
    "tags": []
   },
   "source": [
    "## helper function - load results from adas search"
   ]
  },
  {
   "cell_type": "code",
   "execution_count": 132,
   "id": "77485e38-f022-442e-b9ef-993c17fb3b90",
   "metadata": {},
   "outputs": [],
   "source": [
    "def process_fasta_file(filename):\n",
    "    # Initialize lists to store the data\n",
    "    data = []\n",
    "    current_fasta_id = None\n",
    "    \n",
    "    with open(filename, 'r') as file:\n",
    "        for line in file:\n",
    "            line = line.strip()\n",
    "            \n",
    "            # Check if this is a fasta_id line\n",
    "            if 'fasta_id:' in line:\n",
    "                # Extract the fasta_id (everything between 'fasta_id:' and the next tab)\n",
    "                parts = line.split('fasta_id:')[1].strip()\n",
    "                current_fasta_id = parts.split('\\t')[0].strip()\n",
    "                \n",
    "            # Check if this is a query line\n",
    "            elif line.startswith('query_id:'):\n",
    "                parts = line.split()\n",
    "                \n",
    "                # Extract the required fields\n",
    "                query_id = parts[1]\n",
    "                distance = float(parts[3])\n",
    "                answer_fasta_path = parts[5]\n",
    "                answer_id = parts[6]\n",
    "                answer_seq_len = int(parts[8])\n",
    "                \n",
    "                # Add the data to our list\n",
    "                data.append({\n",
    "                    'fasta_id': current_fasta_id,\n",
    "                    'answer_seq_id': answer_id,\n",
    "                    'answer_seq_len': answer_seq_len,\n",
    "                    'distance': distance\n",
    "                })\n",
    "    \n",
    "    # Convert to DataFrame\n",
    "    df = pd.DataFrame(data)\n",
    "    df = df.sort_values(by=\"distance\", ascending=True)\n",
    "    \n",
    "    return df"
   ]
  },
  {
   "cell_type": "code",
   "execution_count": 133,
   "id": "5400f5fd-3e82-4a08-ace6-9f9fc8c440ed",
   "metadata": {},
   "outputs": [],
   "source": [
    "# Usage example\n",
    "df_adas = process_fasta_file(os.path.join(adas_dir, \"adas.neighbors.txt\"))"
   ]
  },
  {
   "cell_type": "markdown",
   "id": "b6bc884b-38cd-41eb-a351-3284b36ffaee",
   "metadata": {},
   "source": [
    "## compare results - top results"
   ]
  },
  {
   "cell_type": "code",
   "execution_count": 135,
   "id": "28b80eb7-7c17-44f0-869f-e6b6822bcad5",
   "metadata": {},
   "outputs": [
    {
     "data": {
      "text/html": [
       "<div>\n",
       "<style scoped>\n",
       "    .dataframe tbody tr th:only-of-type {\n",
       "        vertical-align: middle;\n",
       "    }\n",
       "\n",
       "    .dataframe tbody tr th {\n",
       "        vertical-align: top;\n",
       "    }\n",
       "\n",
       "    .dataframe thead th {\n",
       "        text-align: right;\n",
       "    }\n",
       "</style>\n",
       "<table border=\"1\" class=\"dataframe\">\n",
       "  <thead>\n",
       "    <tr style=\"text-align: right;\">\n",
       "      <th></th>\n",
       "      <th>test_id</th>\n",
       "      <th>accuracy</th>\n",
       "    </tr>\n",
       "  </thead>\n",
       "  <tbody>\n",
       "    <tr>\n",
       "      <th>0</th>\n",
       "      <td>1</td>\n",
       "      <td>0.21</td>\n",
       "    </tr>\n",
       "    <tr>\n",
       "      <th>1</th>\n",
       "      <td>2</td>\n",
       "      <td>0.11</td>\n",
       "    </tr>\n",
       "    <tr>\n",
       "      <th>2</th>\n",
       "      <td>3</td>\n",
       "      <td>0.20</td>\n",
       "    </tr>\n",
       "    <tr>\n",
       "      <th>3</th>\n",
       "      <td>4</td>\n",
       "      <td>0.08</td>\n",
       "    </tr>\n",
       "    <tr>\n",
       "      <th>4</th>\n",
       "      <td>5</td>\n",
       "      <td>0.14</td>\n",
       "    </tr>\n",
       "    <tr>\n",
       "      <th>...</th>\n",
       "      <td>...</td>\n",
       "      <td>...</td>\n",
       "    </tr>\n",
       "    <tr>\n",
       "      <th>94</th>\n",
       "      <td>95</td>\n",
       "      <td>0.10</td>\n",
       "    </tr>\n",
       "    <tr>\n",
       "      <th>95</th>\n",
       "      <td>96</td>\n",
       "      <td>0.08</td>\n",
       "    </tr>\n",
       "    <tr>\n",
       "      <th>96</th>\n",
       "      <td>97</td>\n",
       "      <td>0.17</td>\n",
       "    </tr>\n",
       "    <tr>\n",
       "      <th>97</th>\n",
       "      <td>98</td>\n",
       "      <td>0.02</td>\n",
       "    </tr>\n",
       "    <tr>\n",
       "      <th>98</th>\n",
       "      <td>99</td>\n",
       "      <td>0.16</td>\n",
       "    </tr>\n",
       "  </tbody>\n",
       "</table>\n",
       "<p>99 rows × 2 columns</p>\n",
       "</div>"
      ],
      "text/plain": [
       "    test_id  accuracy\n",
       "0         1      0.21\n",
       "1         2      0.11\n",
       "2         3      0.20\n",
       "3         4      0.08\n",
       "4         5      0.14\n",
       "..      ...       ...\n",
       "94       95      0.10\n",
       "95       96      0.08\n",
       "96       97      0.17\n",
       "97       98      0.02\n",
       "98       99      0.16\n",
       "\n",
       "[99 rows x 2 columns]"
      ]
     },
     "execution_count": 135,
     "metadata": {},
     "output_type": "execute_result"
    }
   ],
   "source": [
    "n = 100 # look at top N results\n",
    "res = []\n",
    "\n",
    "for i in range(1, 100):\n",
    "    test_dir = f\"./adas_test/test_data_{str(i)}\"\n",
    "    adas_dir = os.path.join(test_dir, \"adas\")\n",
    "    usearch_dir = os.path.join(test_dir, \"usearch\")\n",
    "    \n",
    "    df_usearch = pd.read_csv(os.path.join(usearch_dir, \"hits.b6\"),sep='\\t',low_memory=False, names= [\n",
    "        \"query_id\",\n",
    "        \"subject_id\",\n",
    "        \"percent_identity\", \n",
    "        \"alignment_length\", \"mismatches\",\"gap_opens\",\"q_start\",\"q_end\",\"s_start\",\"s_end\",\"evalue\",\"bit_score\"]).sort_values(by=\"percent_identity\", ascending=False)\n",
    "    df_adas = process_fasta_file(os.path.join(adas_dir, \"adas.neighbors.txt\"))\n",
    "    \n",
    "    df_usearch_results = df_usearch.head(n)\n",
    "    df_adas_results = df_adas.head(n)\n",
    "\n",
    "    usearch_results = set(df_usearch_results['subject_id'].values)\n",
    "    adas_results = set(df_adas_results.answer_seq_id.values)\n",
    "    n_usearch = len(usearch_results)\n",
    "    n_adas = len(adas_results)\n",
    "\n",
    "    tp = len(adas_results.intersection(usearch_results))\n",
    "    fp = len(adas_results - usearch_results)\n",
    "    fn = len(usearch_results - adas_results)\n",
    "    accuracy = tp / (tp + fp)\n",
    "    \n",
    "    res.append({\n",
    "        'test_id': i,\n",
    "        'accuracy': accuracy\n",
    "        })\n",
    "\n",
    "df_res = pd.DataFrame(res)\n",
    "df_res.sort_values('test_id', ascending=True)"
   ]
  },
  {
   "cell_type": "markdown",
   "id": "602bc2ed-a5d6-4c1d-83fd-0ac7ebe4197a",
   "metadata": {},
   "source": [
    "# plot results"
   ]
  },
  {
   "cell_type": "code",
   "execution_count": 138,
   "id": "a5ce3617-ce9d-45cb-bed1-422f2ac87434",
   "metadata": {},
   "outputs": [
    {
     "data": {
      "text/plain": [
       "Text(0.5, 1.0, 'Distribution of Accuracy')"
      ]
     },
     "execution_count": 138,
     "metadata": {},
     "output_type": "execute_result"
    },
    {
     "data": {
      "image/png": "[encoded data removed]",
      "text/plain": [
       "<Figure size 1500x1000 with 1 Axes>"
      ]
     },
     "metadata": {},
     "output_type": "display_data"
    }
   ],
   "source": [
    "# Create figure with subplots\n",
    "fig = plt.figure(figsize=(15, 10))\n",
    "\n",
    "# 1. Histogram of accuracy\n",
    "ax1 = plt.subplot(2, 2, 1)\n",
    "plt.hist(df_res['accuracy'], bins=20, color='skyblue', edgecolor='black')\n",
    "plt.xlabel('Accuracy')\n",
    "plt.ylabel('Frequency')\n",
    "plt.title('Distribution of Accuracy')"
   ]
  },
  {
   "cell_type": "code",
   "execution_count": 139,
   "id": "58443a68-d61d-4690-abe9-24daf1bb0ffe",
   "metadata": {},
   "outputs": [
    {
     "data": {
      "text/plain": [
       "Text(0.5, 1.0, 'Box Plot of Accuracy')"
      ]
     },
     "execution_count": 139,
     "metadata": {},
     "output_type": "execute_result"
    },
    {
     "data": {
      "image/png": "[encoded data removed]",
      "text/plain": [
       "<Figure size 1500x1000 with 1 Axes>"
      ]
     },
     "metadata": {},
     "output_type": "display_data"
    }
   ],
   "source": [
    "# 2. Box plot\n",
    "fig = plt.figure(figsize=(15, 10))\n",
    "\n",
    "ax2 = plt.subplot(2, 8, 2)\n",
    "sns.boxplot(y=df_res['accuracy'], color='skyblue')\n",
    "plt.ylabel('Accuracy')\n",
    "plt.title('Box Plot of Accuracy')"
   ]
  },
  {
   "cell_type": "markdown",
   "id": "64eb685f-74e7-4ce9-a8a4-2e6f47c960a9",
   "metadata": {},
   "source": [
    "## plot results - top 10"
   ]
  },
  {
   "cell_type": "code",
   "execution_count": 100,
   "id": "39a623ba-b4c5-46e8-a820-daefe0d1e361",
   "metadata": {},
   "outputs": [
    {
     "data": {
      "text/plain": [
       "Text(0.5, 1.0, 'Distribution of Accuracy')"
      ]
     },
     "execution_count": 100,
     "metadata": {},
     "output_type": "execute_result"
    },
    {
     "data": {
      "image/png": "[encoded data removed]",
      "text/plain": [
       "<Figure size 1500x1000 with 1 Axes>"
      ]
     },
     "metadata": {},
     "output_type": "display_data"
    }
   ],
   "source": [
    "# Create figure with subplots\n",
    "fig = plt.figure(figsize=(15, 10))\n",
    "\n",
    "# 1. Histogram of accuracy\n",
    "ax1 = plt.subplot(2, 2, 1)\n",
    "plt.hist(df_res['accuracy'], bins=20, color='skyblue', edgecolor='black')\n",
    "plt.xlabel('Accuracy')\n",
    "plt.ylabel('Frequency')\n",
    "plt.title('Distribution of Accuracy')"
   ]
  },
  {
   "cell_type": "code",
   "execution_count": 101,
   "id": "3960bde4-3f13-49d5-9bb5-896f133ca532",
   "metadata": {},
   "outputs": [
    {
     "data": {
      "text/plain": [
       "Text(0.5, 1.0, 'Box Plot of Accuracy')"
      ]
     },
     "execution_count": 101,
     "metadata": {},
     "output_type": "execute_result"
    },
    {
     "data": {
      "image/png": "[encoded data removed]",
      "text/plain": [
       "<Figure size 1500x1000 with 1 Axes>"
      ]
     },
     "metadata": {},
     "output_type": "display_data"
    }
   ],
   "source": [
    "# 2. Box plot\n",
    "fig = plt.figure(figsize=(15, 10))\n",
    "\n",
    "ax2 = plt.subplot(2, 8, 2)\n",
    "sns.boxplot(y=df_res['accuracy'], color='skyblue')\n",
    "plt.ylabel('Accuracy')\n",
    "plt.title('Box Plot of Accuracy')"
   ]
  },
  {
   "cell_type": "markdown",
   "id": "c07d5fb9-0ecc-4f5c-9086-e08209f5de05",
   "metadata": {},
   "source": [
    "## plot results - top 20"
   ]
  },
  {
   "cell_type": "code",
   "execution_count": 84,
   "id": "df9cc8d0-e833-415b-bef2-a7dbfb94ca5a",
   "metadata": {},
   "outputs": [
    {
     "data": {
      "text/plain": [
       "Text(0.5, 1.0, 'Distribution of Accuracy')"
      ]
     },
     "execution_count": 84,
     "metadata": {},
     "output_type": "execute_result"
    },
    {
     "data": {
      "image/png": "[encoded data removed]",
      "text/plain": [
       "<Figure size 1500x1000 with 1 Axes>"
      ]
     },
     "metadata": {},
     "output_type": "display_data"
    }
   ],
   "source": [
    "# Create figure with subplots\n",
    "fig = plt.figure(figsize=(15, 10))\n",
    "\n",
    "# 1. Histogram of accuracy\n",
    "ax1 = plt.subplot(2, 2, 1)\n",
    "plt.hist(df_res['accuracy'], bins=20, color='skyblue', edgecolor='black')\n",
    "plt.xlabel('Accuracy')\n",
    "plt.ylabel('Frequency')\n",
    "plt.title('Distribution of Accuracy')"
   ]
  },
  {
   "cell_type": "code",
   "execution_count": 85,
   "id": "c878ea32-3bab-4f4f-b71f-b52eeb2c8f69",
   "metadata": {},
   "outputs": [
    {
     "data": {
      "text/plain": [
       "Text(0.5, 1.0, 'Box Plot of Accuracy')"
      ]
     },
     "execution_count": 85,
     "metadata": {},
     "output_type": "execute_result"
    },
    {
     "data": {
      "image/png": "[encoded data removed]",
      "text/plain": [
       "<Figure size 1500x1000 with 1 Axes>"
      ]
     },
     "metadata": {},
     "output_type": "display_data"
    }
   ],
   "source": [
    "# 2. Box plot\n",
    "fig = plt.figure(figsize=(15, 10))\n",
    "\n",
    "ax2 = plt.subplot(2, 8, 2)\n",
    "sns.boxplot(y=df_res['accuracy'], color='skyblue')\n",
    "plt.ylabel('Accuracy')\n",
    "plt.title('Box Plot of Accuracy')"
   ]
  },
  {
   "cell_type": "markdown",
   "id": "557a6210-9239-45ee-a841-c5fa5c3eb426",
   "metadata": {},
   "source": [
    "## plot results - top 30"
   ]
  },
  {
   "cell_type": "code",
   "execution_count": 87,
   "id": "215a48ac-beda-4c3f-97e9-e439d63159db",
   "metadata": {},
   "outputs": [
    {
     "data": {
      "text/plain": [
       "Text(0.5, 1.0, 'Distribution of Accuracy')"
      ]
     },
     "execution_count": 87,
     "metadata": {},
     "output_type": "execute_result"
    },
    {
     "data": {
      "image/png": "[encoded data removed]",
      "text/plain": [
       "<Figure size 1500x1000 with 1 Axes>"
      ]
     },
     "metadata": {},
     "output_type": "display_data"
    }
   ],
   "source": [
    "# Create figure with subplots\n",
    "fig = plt.figure(figsize=(15, 10))\n",
    "\n",
    "# 1. Histogram of accuracy\n",
    "ax1 = plt.subplot(2, 2, 1)\n",
    "plt.hist(df_res['accuracy'], bins=20, color='skyblue', edgecolor='black')\n",
    "plt.xlabel('Accuracy')\n",
    "plt.ylabel('Frequency')\n",
    "plt.title('Distribution of Accuracy')"
   ]
  },
  {
   "cell_type": "code",
   "execution_count": 88,
   "id": "4cc7e89b-5fe1-41f0-ab43-6ba127bdbb9c",
   "metadata": {},
   "outputs": [
    {
     "data": {
      "text/plain": [
       "Text(0.5, 1.0, 'Box Plot of Accuracy')"
      ]
     },
     "execution_count": 88,
     "metadata": {},
     "output_type": "execute_result"
    },
    {
     "data": {
      "image/png": "[encoded data removed]",
      "text/plain": [
       "<Figure size 1500x1000 with 1 Axes>"
      ]
     },
     "metadata": {},
     "output_type": "display_data"
    }
   ],
   "source": [
    "# 2. Box plot\n",
    "fig = plt.figure(figsize=(15, 10))\n",
    "\n",
    "ax2 = plt.subplot(2, 8, 2)\n",
    "sns.boxplot(y=df_res['accuracy'], color='skyblue')\n",
    "plt.ylabel('Accuracy')\n",
    "plt.title('Box Plot of Accuracy')"
   ]
  },
  {
   "cell_type": "code",
   "execution_count": 90,
   "id": "349d9b06-3d00-42b4-9800-914192645fd8",
   "metadata": {},
   "outputs": [
    {
     "data": {
      "text/html": [
       "<div>\n",
       "<style scoped>\n",
       "    .dataframe tbody tr th:only-of-type {\n",
       "        vertical-align: middle;\n",
       "    }\n",
       "\n",
       "    .dataframe tbody tr th {\n",
       "        vertical-align: top;\n",
       "    }\n",
       "\n",
       "    .dataframe thead th {\n",
       "        text-align: right;\n",
       "    }\n",
       "</style>\n",
       "<table border=\"1\" class=\"dataframe\">\n",
       "  <thead>\n",
       "    <tr style=\"text-align: right;\">\n",
       "      <th></th>\n",
       "      <th>test_id</th>\n",
       "      <th>accuracy</th>\n",
       "    </tr>\n",
       "  </thead>\n",
       "  <tbody>\n",
       "    <tr>\n",
       "      <th>93</th>\n",
       "      <td>94</td>\n",
       "      <td>0.400000</td>\n",
       "    </tr>\n",
       "    <tr>\n",
       "      <th>70</th>\n",
       "      <td>71</td>\n",
       "      <td>0.300000</td>\n",
       "    </tr>\n",
       "    <tr>\n",
       "      <th>34</th>\n",
       "      <td>35</td>\n",
       "      <td>0.266667</td>\n",
       "    </tr>\n",
       "    <tr>\n",
       "      <th>5</th>\n",
       "      <td>6</td>\n",
       "      <td>0.266667</td>\n",
       "    </tr>\n",
       "    <tr>\n",
       "      <th>89</th>\n",
       "      <td>90</td>\n",
       "      <td>0.266667</td>\n",
       "    </tr>\n",
       "    <tr>\n",
       "      <th>...</th>\n",
       "      <td>...</td>\n",
       "      <td>...</td>\n",
       "    </tr>\n",
       "    <tr>\n",
       "      <th>56</th>\n",
       "      <td>57</td>\n",
       "      <td>0.000000</td>\n",
       "    </tr>\n",
       "    <tr>\n",
       "      <th>44</th>\n",
       "      <td>45</td>\n",
       "      <td>0.000000</td>\n",
       "    </tr>\n",
       "    <tr>\n",
       "      <th>52</th>\n",
       "      <td>53</td>\n",
       "      <td>0.000000</td>\n",
       "    </tr>\n",
       "    <tr>\n",
       "      <th>51</th>\n",
       "      <td>52</td>\n",
       "      <td>0.000000</td>\n",
       "    </tr>\n",
       "    <tr>\n",
       "      <th>98</th>\n",
       "      <td>99</td>\n",
       "      <td>0.000000</td>\n",
       "    </tr>\n",
       "  </tbody>\n",
       "</table>\n",
       "<p>99 rows × 2 columns</p>\n",
       "</div>"
      ],
      "text/plain": [
       "    test_id  accuracy\n",
       "93       94  0.400000\n",
       "70       71  0.300000\n",
       "34       35  0.266667\n",
       "5         6  0.266667\n",
       "89       90  0.266667\n",
       "..      ...       ...\n",
       "56       57  0.000000\n",
       "44       45  0.000000\n",
       "52       53  0.000000\n",
       "51       52  0.000000\n",
       "98       99  0.000000\n",
       "\n",
       "[99 rows x 2 columns]"
      ]
     },
     "execution_count": 90,
     "metadata": {},
     "output_type": "execute_result"
    }
   ],
   "source": [
    "df_res.sort_values(by=\"accuracy\", ascending=False)"
   ]
  }
 ],
 "metadata": {
  "kernelspec": {
   "display_name": "mopp_analysis",
   "language": "python",
   "name": "mopp_analysis"
  },
  "language_info": {
   "codemirror_mode": {
    "name": "ipython",
    "version": 3
   },
   "file_extension": ".py",
   "mimetype": "text/x-python",
   "name": "python",
   "nbconvert_exporter": "python",
   "pygments_lexer": "ipython3",
   "version": "3.9.19"
  }
 },
 "nbformat": 4,
 "nbformat_minor": 5
}
